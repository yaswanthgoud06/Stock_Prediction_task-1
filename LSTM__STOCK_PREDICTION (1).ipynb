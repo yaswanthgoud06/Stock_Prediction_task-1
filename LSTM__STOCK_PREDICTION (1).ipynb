{
  "nbformat": 4,
  "nbformat_minor": 0,
  "metadata": {
    "colab": {
      "provenance": []
    },
    "kernelspec": {
      "name": "python3",
      "display_name": "Python 3"
    },
    "language_info": {
      "name": "python"
    }
  },
  "cells": [
    {
      "cell_type": "code",
      "source": [
        "import numpy as np\n",
        "import pandas as pd\n",
        "from sklearn.preprocessing import MinMaxScaler\n",
        "import matplotlib.pyplot as plt\n"
      ],
      "metadata": {
        "id": "_6jgVPK9Yt9G"
      },
      "execution_count": null,
      "outputs": []
    },
    {
      "cell_type": "code",
      "source": [
        "import torch\n",
        "import torch.nn as nn"
      ],
      "metadata": {
        "id": "NLPwkIwVYt_p"
      },
      "execution_count": null,
      "outputs": []
    },
    {
      "cell_type": "code",
      "source": [
        "path=\"NFLX.csv\"\n",
        "df = pd.read_csv(path)\n",
        "print(df.head())\n",
        "closed_prices = df[\"Close\"]"
      ],
      "metadata": {
        "colab": {
          "base_uri": "https://localhost:8080/"
        },
        "id": "ncs9yVSbYuCX",
        "outputId": "e0155aa5-ae4d-4385-d1ff-7564c8954a74"
      },
      "execution_count": null,
      "outputs": [
        {
          "output_type": "stream",
          "name": "stdout",
          "text": [
            "         Date        Open        High         Low       Close   Adj Close  \\\n",
            "0  2015-12-16  119.800003  123.000000  118.089996  122.639999  122.639999   \n",
            "1  2015-12-17  123.970001  126.349998  122.419998  122.510002  122.510002   \n",
            "2  2015-12-18  120.849998  122.190002  117.919998  118.019997  118.019997   \n",
            "3  2015-12-21  119.510002  119.589996  115.660004  116.629997  116.629997   \n",
            "4  2015-12-22  117.300003  117.430000  114.860001  116.239998  116.239998   \n",
            "\n",
            "     Volume  \n",
            "0  13181000  \n",
            "1  17284900  \n",
            "2  17948100  \n",
            "3  11670000  \n",
            "4   9689000  \n"
          ]
        }
      ]
    },
    {
      "cell_type": "code",
      "source": [
        "seq_len = 15"
      ],
      "metadata": {
        "id": "eI1iiJ40YuHS"
      },
      "execution_count": null,
      "outputs": []
    },
    {
      "cell_type": "code",
      "source": [
        "mm = MinMaxScaler()\n",
        "scaled_price = mm.fit_transform(np.array(closed_prices)[... , None]).squeeze()\n"
      ],
      "metadata": {
        "id": "aJpo7aADYuKG"
      },
      "execution_count": null,
      "outputs": []
    },
    {
      "cell_type": "code",
      "source": [
        "X=[]\n",
        "Y=[]"
      ],
      "metadata": {
        "id": "anVwTyYlYuM-"
      },
      "execution_count": null,
      "outputs": []
    },
    {
      "cell_type": "code",
      "source": [
        "for i in range(len(scaled_price) - seq_len):\n",
        "    X.append(scaled_price[i : i+ seq_len])\n",
        "    Y.append(scaled_price[i+seq_len])\n"
      ],
      "metadata": {
        "id": "nMdbVWAgYuQB"
      },
      "execution_count": null,
      "outputs": []
    },
    {
      "cell_type": "code",
      "source": [
        "X = np.array(X)[... , None]\n",
        "Y = np.array(Y)[... ,None]\n"
      ],
      "metadata": {
        "id": "NxKgiI5rYuS2"
      },
      "execution_count": null,
      "outputs": []
    },
    {
      "cell_type": "code",
      "source": [
        "train_x = torch.from_numpy(X[:int(0.8*X.shape[0])]).float()\n",
        "train_y = torch.from_numpy(Y[:int(0.8*Y.shape[0])]).float()\n",
        "test_x = torch.from_numpy(X[:int(0.8*X.shape[0])]).float()\n",
        "test_y = torch.from_numpy(Y[:int(0.8*Y.shape[0])]).float()\n"
      ],
      "metadata": {
        "id": "QCB1ihEnYuVu"
      },
      "execution_count": null,
      "outputs": []
    },
    {
      "cell_type": "code",
      "source": [
        "class Model(nn.Module):\n",
        "    def __init__(self,input_size,hidden_size):\n",
        "        super().__init__()\n",
        "        self.lstm = nn.LSTM(input_size , hidden_size,batch_first=True)\n",
        "        self.fc=nn.Linear(hidden_size, 1)\n",
        "    def forward(self , x):\n",
        "        output,(hidden,cell)=self.lstm(x)\n",
        "        return self.fc(hidden[-1,:])"
      ],
      "metadata": {
        "id": "3n9YQf9dYuYX"
      },
      "execution_count": null,
      "outputs": []
    },
    {
      "cell_type": "code",
      "source": [
        "model = Model(1,64)"
      ],
      "metadata": {
        "id": "0H4Rndz2YubN"
      },
      "execution_count": null,
      "outputs": []
    },
    {
      "cell_type": "code",
      "source": [
        "optimizer=torch.optim.Adam(model.parameters(), lr=0.001)\n"
      ],
      "metadata": {
        "id": "8_-KMfUOYueF"
      },
      "execution_count": null,
      "outputs": []
    },
    {
      "cell_type": "code",
      "source": [
        "loss_fn = nn.MSELoss()"
      ],
      "metadata": {
        "id": "8g6KmYXlYug8"
      },
      "execution_count": null,
      "outputs": []
    },
    {
      "cell_type": "code",
      "source": [
        "num_epochs=100"
      ],
      "metadata": {
        "id": "FtYCyBvgYul6"
      },
      "execution_count": null,
      "outputs": []
    },
    {
      "cell_type": "code",
      "source": [
        "for epoch in range(num_epochs):\n",
        "    output = model(train_x)\n",
        "    loss=loss_fn(output,train_y)\n",
        "\n",
        "    optimizer.zero_grad()\n",
        "    loss.backward()\n",
        "    optimizer.step()\n",
        "\n",
        "    if epoch % 10==0 and epoch !=0:\n",
        "        print(epoch , \"epoch loss\", loss.detach().numpy())\n"
      ],
      "metadata": {
        "id": "jCgwEsthYupC",
        "colab": {
          "base_uri": "https://localhost:8080/"
        },
        "outputId": "c1084a89-c046-4220-d9d8-6b6da0b5b356"
      },
      "execution_count": null,
      "outputs": [
        {
          "output_type": "stream",
          "name": "stdout",
          "text": [
            "10 epoch loss 0.19186826\n",
            "20 epoch loss 0.06738672\n",
            "30 epoch loss 0.054185197\n",
            "40 epoch loss 0.04336668\n",
            "50 epoch loss 0.024419487\n",
            "60 epoch loss 0.0064065093\n",
            "70 epoch loss 0.00536999\n",
            "80 epoch loss 0.0042615063\n",
            "90 epoch loss 0.0034916976\n"
          ]
        }
      ]
    },
    {
      "cell_type": "code",
      "source": [
        "model.eval()\n",
        "with torch.no_grad():\n",
        "    output=model(test_x)"
      ],
      "metadata": {
        "id": "lsat8exGYusK"
      },
      "execution_count": null,
      "outputs": []
    },
    {
      "cell_type": "code",
      "source": [
        "pred=mm.inverse_transform(output.numpy())\n",
        "real=mm.inverse_transform(test_y.numpy())\n"
      ],
      "metadata": {
        "id": "hiC6gYFUYuu9"
      },
      "execution_count": null,
      "outputs": []
    },
    {
      "cell_type": "code",
      "source": [
        "plt.plot(pred.squeeze(),color=\"green\",label=\"predicted\")\n",
        "plt.plot(real.squeeze(),color=\"red\",label=\"real\")\n",
        "plt.show()"
      ],
      "metadata": {
        "id": "hEhP5LuCYuyC",
        "colab": {
          "base_uri": "https://localhost:8080/",
          "height": 430
        },
        "outputId": "88e35315-1910-4943-f387-38d4e6988511"
      },
      "execution_count": null,
      "outputs": [
        {
          "output_type": "display_data",
          "data": {
            "text/plain": [
              "<Figure size 640x480 with 1 Axes>"
            ],
            "image/png": "[encoded data removed]"
          },
          "metadata": {}
        }
      ]
    }
  ]
}